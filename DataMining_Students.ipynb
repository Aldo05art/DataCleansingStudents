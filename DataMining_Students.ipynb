{
  "nbformat": 4,
  "nbformat_minor": 0,
  "metadata": {
    "colab": {
      "provenance": [],
      "authorship_tag": "ABX9TyNmSO5zyAfFqq1qqMYJuC2C",
      "include_colab_link": true
    },
    "kernelspec": {
      "name": "python3",
      "display_name": "Python 3"
    },
    "language_info": {
      "name": "python"
    }
  },
  "cells": [
    {
      "cell_type": "markdown",
      "metadata": {
        "id": "view-in-github",
        "colab_type": "text"
      },
      "source": [
        "<a href=\"https://colab.research.google.com/github/Aldo05art/DataCleansingStudents/blob/main/DataMining_Students.ipynb\" target=\"_parent\"><img src=\"https://colab.research.google.com/assets/colab-badge.svg\" alt=\"Open In Colab\"/></a>"
      ]
    },
    {
      "cell_type": "code",
      "execution_count": null,
      "metadata": {
        "id": "GtvrMOU4M2jL"
      },
      "outputs": [],
      "source": [
        "import pandas as pd\n",
        "import numpy as np\n",
        "import re\n"
      ]
    },
    {
      "cell_type": "code",
      "source": [
        "from google.colab import files\n",
        "uploaded = files.upload()  # jalankan, file kamuu disini yaa\n",
        "# uploaded adalah dict; ambil nama file pertama\n",
        "file_name = next(iter(uploaded))\n",
        "df = pd.read_csv(file_name)"
      ],
      "metadata": {
        "colab": {
          "base_uri": "https://localhost:8080/",
          "height": 73
        },
        "id": "-G-D2kIsM-AD",
        "outputId": "088e9667-ad3c-4bd2-cc23-3498842ac07f"
      },
      "execution_count": null,
      "outputs": [
        {
          "output_type": "display_data",
          "data": {
            "text/plain": [
              "<IPython.core.display.HTML object>"
            ],
            "text/html": [
              "\n",
              "     <input type=\"file\" id=\"files-dc8ab01a-1c5b-4447-a76a-83f7eafd60e7\" name=\"files[]\" multiple disabled\n",
              "        style=\"border:none\" />\n",
              "     <output id=\"result-dc8ab01a-1c5b-4447-a76a-83f7eafd60e7\">\n",
              "      Upload widget is only available when the cell has been executed in the\n",
              "      current browser session. Please rerun this cell to enable.\n",
              "      </output>\n",
              "      <script>// Copyright 2017 Google LLC\n",
              "//\n",
              "// Licensed under the Apache License, Version 2.0 (the \"License\");\n",
              "// you may not use this file except in compliance with the License.\n",
              "// You may obtain a copy of the License at\n",
              "//\n",
              "//      http://www.apache.org/licenses/LICENSE-2.0\n",
              "//\n",
              "// Unless required by applicable law or agreed to in writing, software\n",
              "// distributed under the License is distributed on an \"AS IS\" BASIS,\n",
              "// WITHOUT WARRANTIES OR CONDITIONS OF ANY KIND, either express or implied.\n",
              "// See the License for the specific language governing permissions and\n",
              "// limitations under the License.\n",
              "\n",
              "/**\n",
              " * @fileoverview Helpers for google.colab Python module.\n",
              " */\n",
              "(function(scope) {\n",
              "function span(text, styleAttributes = {}) {\n",
              "  const element = document.createElement('span');\n",
              "  element.textContent = text;\n",
              "  for (const key of Object.keys(styleAttributes)) {\n",
              "    element.style[key] = styleAttributes[key];\n",
              "  }\n",
              "  return element;\n",
              "}\n",
              "\n",
              "// Max number of bytes which will be uploaded at a time.\n",
              "const MAX_PAYLOAD_SIZE = 100 * 1024;\n",
              "\n",
              "function _uploadFiles(inputId, outputId) {\n",
              "  const steps = uploadFilesStep(inputId, outputId);\n",
              "  const outputElement = document.getElementById(outputId);\n",
              "  // Cache steps on the outputElement to make it available for the next call\n",
              "  // to uploadFilesContinue from Python.\n",
              "  outputElement.steps = steps;\n",
              "\n",
              "  return _uploadFilesContinue(outputId);\n",
              "}\n",
              "\n",
              "// This is roughly an async generator (not supported in the browser yet),\n",
              "// where there are multiple asynchronous steps and the Python side is going\n",
              "// to poll for completion of each step.\n",
              "// This uses a Promise to block the python side on completion of each step,\n",
              "// then passes the result of the previous step as the input to the next step.\n",
              "function _uploadFilesContinue(outputId) {\n",
              "  const outputElement = document.getElementById(outputId);\n",
              "  const steps = outputElement.steps;\n",
              "\n",
              "  const next = steps.next(outputElement.lastPromiseValue);\n",
              "  return Promise.resolve(next.value.promise).then((value) => {\n",
              "    // Cache the last promise value to make it available to the next\n",
              "    // step of the generator.\n",
              "    outputElement.lastPromiseValue = value;\n",
              "    return next.value.response;\n",
              "  });\n",
              "}\n",
              "\n",
              "/**\n",
              " * Generator function which is called between each async step of the upload\n",
              " * process.\n",
              " * @param {string} inputId Element ID of the input file picker element.\n",
              " * @param {string} outputId Element ID of the output display.\n",
              " * @return {!Iterable<!Object>} Iterable of next steps.\n",
              " */\n",
              "function* uploadFilesStep(inputId, outputId) {\n",
              "  const inputElement = document.getElementById(inputId);\n",
              "  inputElement.disabled = false;\n",
              "\n",
              "  const outputElement = document.getElementById(outputId);\n",
              "  outputElement.innerHTML = '';\n",
              "\n",
              "  const pickedPromise = new Promise((resolve) => {\n",
              "    inputElement.addEventListener('change', (e) => {\n",
              "      resolve(e.target.files);\n",
              "    });\n",
              "  });\n",
              "\n",
              "  const cancel = document.createElement('button');\n",
              "  inputElement.parentElement.appendChild(cancel);\n",
              "  cancel.textContent = 'Cancel upload';\n",
              "  const cancelPromise = new Promise((resolve) => {\n",
              "    cancel.onclick = () => {\n",
              "      resolve(null);\n",
              "    };\n",
              "  });\n",
              "\n",
              "  // Wait for the user to pick the files.\n",
              "  const files = yield {\n",
              "    promise: Promise.race([pickedPromise, cancelPromise]),\n",
              "    response: {\n",
              "      action: 'starting',\n",
              "    }\n",
              "  };\n",
              "\n",
              "  cancel.remove();\n",
              "\n",
              "  // Disable the input element since further picks are not allowed.\n",
              "  inputElement.disabled = true;\n",
              "\n",
              "  if (!files) {\n",
              "    return {\n",
              "      response: {\n",
              "        action: 'complete',\n",
              "      }\n",
              "    };\n",
              "  }\n",
              "\n",
              "  for (const file of files) {\n",
              "    const li = document.createElement('li');\n",
              "    li.append(span(file.name, {fontWeight: 'bold'}));\n",
              "    li.append(span(\n",
              "        `(${file.type || 'n/a'}) - ${file.size} bytes, ` +\n",
              "        `last modified: ${\n",
              "            file.lastModifiedDate ? file.lastModifiedDate.toLocaleDateString() :\n",
              "                                    'n/a'} - `));\n",
              "    const percent = span('0% done');\n",
              "    li.appendChild(percent);\n",
              "\n",
              "    outputElement.appendChild(li);\n",
              "\n",
              "    const fileDataPromise = new Promise((resolve) => {\n",
              "      const reader = new FileReader();\n",
              "      reader.onload = (e) => {\n",
              "        resolve(e.target.result);\n",
              "      };\n",
              "      reader.readAsArrayBuffer(file);\n",
              "    });\n",
              "    // Wait for the data to be ready.\n",
              "    let fileData = yield {\n",
              "      promise: fileDataPromise,\n",
              "      response: {\n",
              "        action: 'continue',\n",
              "      }\n",
              "    };\n",
              "\n",
              "    // Use a chunked sending to avoid message size limits. See b/62115660.\n",
              "    let position = 0;\n",
              "    do {\n",
              "      const length = Math.min(fileData.byteLength - position, MAX_PAYLOAD_SIZE);\n",
              "      const chunk = new Uint8Array(fileData, position, length);\n",
              "      position += length;\n",
              "\n",
              "      const base64 = btoa(String.fromCharCode.apply(null, chunk));\n",
              "      yield {\n",
              "        response: {\n",
              "          action: 'append',\n",
              "          file: file.name,\n",
              "          data: base64,\n",
              "        },\n",
              "      };\n",
              "\n",
              "      let percentDone = fileData.byteLength === 0 ?\n",
              "          100 :\n",
              "          Math.round((position / fileData.byteLength) * 100);\n",
              "      percent.textContent = `${percentDone}% done`;\n",
              "\n",
              "    } while (position < fileData.byteLength);\n",
              "  }\n",
              "\n",
              "  // All done.\n",
              "  yield {\n",
              "    response: {\n",
              "      action: 'complete',\n",
              "    }\n",
              "  };\n",
              "}\n",
              "\n",
              "scope.google = scope.google || {};\n",
              "scope.google.colab = scope.google.colab || {};\n",
              "scope.google.colab._files = {\n",
              "  _uploadFiles,\n",
              "  _uploadFilesContinue,\n",
              "};\n",
              "})(self);\n",
              "</script> "
            ]
          },
          "metadata": {}
        },
        {
          "output_type": "stream",
          "name": "stdout",
          "text": [
            "Saving students.csv to students (1).csv\n"
          ]
        }
      ]
    },
    {
      "cell_type": "code",
      "source": [
        "print(\"Shape:\", df.shape)\n",
        "display(df.head(8))\n",
        "print(\"\\nInfo:\")\n",
        "display(df.info())\n",
        "print(\"\\nMissing values per column:\")\n",
        "print(df.isnull().sum())\n",
        "print(\"\\nDuplicate rows (exact match):\", df.duplicated().sum())"
      ],
      "metadata": {
        "colab": {
          "base_uri": "https://localhost:8080/",
          "height": 820
        },
        "id": "b38BhxyuNNAy",
        "outputId": "84274ac9-2000-42fd-ca15-d21102525a29"
      },
      "execution_count": null,
      "outputs": [
        {
          "output_type": "stream",
          "name": "stdout",
          "text": [
            "Shape: (200, 7)\n"
          ]
        },
        {
          "output_type": "display_data",
          "data": {
            "text/plain": [
              "   StudentID               Name  Age                           Email  \\\n",
              "0       3336       David Palmer   19              sean43@hotmail.com   \n",
              "1       8774       Andrew Roach   23              vbecker@harvey.com   \n",
              "2       1396  Jonathan Gonzalez   22            hollydavis@gmail.com   \n",
              "3       6716     Kenneth Morrow   24   ganderson@wheeler-atkins.info   \n",
              "4       8830   Kaitlyn Martinez   18            hayesdiane@gmail.com   \n",
              "5       5305       Tiffany Wolf   23            qanderson@taylor.com   \n",
              "6       5048        James Reyes   20   drodriguez@nguyen-cooper.info   \n",
              "7       5986   Samantha Sellers   20  michelle27@hubbard-webster.com   \n",
              "\n",
              "    Department   GPA  GraduationYear  \n",
              "0  Mathematics  3.16            2026  \n",
              "1    Chemistry  3.75            2027  \n",
              "2      Physics  2.95            2027  \n",
              "3      Physics  3.55            2029  \n",
              "4    Chemistry  2.29            2025  \n",
              "5  Mathematics  3.30            2029  \n",
              "6    Chemistry  2.44            2029  \n",
              "7  Mathematics  3.44            2025  "
            ],
            "text/html": [
              "\n",
              "  <div id=\"df-d546e063-fd72-4239-b4ab-69737b643a3c\" class=\"colab-df-container\">\n",
              "    <div>\n",
              "<style scoped>\n",
              "    .dataframe tbody tr th:only-of-type {\n",
              "        vertical-align: middle;\n",
              "    }\n",
              "\n",
              "    .dataframe tbody tr th {\n",
              "        vertical-align: top;\n",
              "    }\n",
              "\n",
              "    .dataframe thead th {\n",
              "        text-align: right;\n",
              "    }\n",
              "</style>\n",
              "<table border=\"1\" class=\"dataframe\">\n",
              "  <thead>\n",
              "    <tr style=\"text-align: right;\">\n",
              "      <th></th>\n",
              "      <th>StudentID</th>\n",
              "      <th>Name</th>\n",
              "      <th>Age</th>\n",
              "      <th>Email</th>\n",
              "      <th>Department</th>\n",
              "      <th>GPA</th>\n",
              "      <th>GraduationYear</th>\n",
              "    </tr>\n",
              "  </thead>\n",
              "  <tbody>\n",
              "    <tr>\n",
              "      <th>0</th>\n",
              "      <td>3336</td>\n",
              "      <td>David Palmer</td>\n",
              "      <td>19</td>\n",
              "      <td>sean43@hotmail.com</td>\n",
              "      <td>Mathematics</td>\n",
              "      <td>3.16</td>\n",
              "      <td>2026</td>\n",
              "    </tr>\n",
              "    <tr>\n",
              "      <th>1</th>\n",
              "      <td>8774</td>\n",
              "      <td>Andrew Roach</td>\n",
              "      <td>23</td>\n",
              "      <td>vbecker@harvey.com</td>\n",
              "      <td>Chemistry</td>\n",
              "      <td>3.75</td>\n",
              "      <td>2027</td>\n",
              "    </tr>\n",
              "    <tr>\n",
              "      <th>2</th>\n",
              "      <td>1396</td>\n",
              "      <td>Jonathan Gonzalez</td>\n",
              "      <td>22</td>\n",
              "      <td>hollydavis@gmail.com</td>\n",
              "      <td>Physics</td>\n",
              "      <td>2.95</td>\n",
              "      <td>2027</td>\n",
              "    </tr>\n",
              "    <tr>\n",
              "      <th>3</th>\n",
              "      <td>6716</td>\n",
              "      <td>Kenneth Morrow</td>\n",
              "      <td>24</td>\n",
              "      <td>ganderson@wheeler-atkins.info</td>\n",
              "      <td>Physics</td>\n",
              "      <td>3.55</td>\n",
              "      <td>2029</td>\n",
              "    </tr>\n",
              "    <tr>\n",
              "      <th>4</th>\n",
              "      <td>8830</td>\n",
              "      <td>Kaitlyn Martinez</td>\n",
              "      <td>18</td>\n",
              "      <td>hayesdiane@gmail.com</td>\n",
              "      <td>Chemistry</td>\n",
              "      <td>2.29</td>\n",
              "      <td>2025</td>\n",
              "    </tr>\n",
              "    <tr>\n",
              "      <th>5</th>\n",
              "      <td>5305</td>\n",
              "      <td>Tiffany Wolf</td>\n",
              "      <td>23</td>\n",
              "      <td>qanderson@taylor.com</td>\n",
              "      <td>Mathematics</td>\n",
              "      <td>3.30</td>\n",
              "      <td>2029</td>\n",
              "    </tr>\n",
              "    <tr>\n",
              "      <th>6</th>\n",
              "      <td>5048</td>\n",
              "      <td>James Reyes</td>\n",
              "      <td>20</td>\n",
              "      <td>drodriguez@nguyen-cooper.info</td>\n",
              "      <td>Chemistry</td>\n",
              "      <td>2.44</td>\n",
              "      <td>2029</td>\n",
              "    </tr>\n",
              "    <tr>\n",
              "      <th>7</th>\n",
              "      <td>5986</td>\n",
              "      <td>Samantha Sellers</td>\n",
              "      <td>20</td>\n",
              "      <td>michelle27@hubbard-webster.com</td>\n",
              "      <td>Mathematics</td>\n",
              "      <td>3.44</td>\n",
              "      <td>2025</td>\n",
              "    </tr>\n",
              "  </tbody>\n",
              "</table>\n",
              "</div>\n",
              "    <div class=\"colab-df-buttons\">\n",
              "\n",
              "  <div class=\"colab-df-container\">\n",
              "    <button class=\"colab-df-convert\" onclick=\"convertToInteractive('df-d546e063-fd72-4239-b4ab-69737b643a3c')\"\n",
              "            title=\"Convert this dataframe to an interactive table.\"\n",
              "            style=\"display:none;\">\n",
              "\n",
              "  <svg xmlns=\"http://www.w3.org/2000/svg\" height=\"24px\" viewBox=\"0 -960 960 960\">\n",
              "    <path d=\"M120-120v-720h720v720H120Zm60-500h600v-160H180v160Zm220 220h160v-160H400v160Zm0 220h160v-160H400v160ZM180-400h160v-160H180v160Zm440 0h160v-160H620v160ZM180-180h160v-160H180v160Zm440 0h160v-160H620v160Z\"/>\n",
              "  </svg>\n",
              "    </button>\n",
              "\n",
              "  <style>\n",
              "    .colab-df-container {\n",
              "      display:flex;\n",
              "      gap: 12px;\n",
              "    }\n",
              "\n",
              "    .colab-df-convert {\n",
              "      background-color: #E8F0FE;\n",
              "      border: none;\n",
              "      border-radius: 50%;\n",
              "      cursor: pointer;\n",
              "      display: none;\n",
              "      fill: #1967D2;\n",
              "      height: 32px;\n",
              "      padding: 0 0 0 0;\n",
              "      width: 32px;\n",
              "    }\n",
              "\n",
              "    .colab-df-convert:hover {\n",
              "      background-color: #E2EBFA;\n",
              "      box-shadow: 0px 1px 2px rgba(60, 64, 67, 0.3), 0px 1px 3px 1px rgba(60, 64, 67, 0.15);\n",
              "      fill: #174EA6;\n",
              "    }\n",
              "\n",
              "    .colab-df-buttons div {\n",
              "      margin-bottom: 4px;\n",
              "    }\n",
              "\n",
              "    [theme=dark] .colab-df-convert {\n",
              "      background-color: #3B4455;\n",
              "      fill: #D2E3FC;\n",
              "    }\n",
              "\n",
              "    [theme=dark] .colab-df-convert:hover {\n",
              "      background-color: #434B5C;\n",
              "      box-shadow: 0px 1px 3px 1px rgba(0, 0, 0, 0.15);\n",
              "      filter: drop-shadow(0px 1px 2px rgba(0, 0, 0, 0.3));\n",
              "      fill: #FFFFFF;\n",
              "    }\n",
              "  </style>\n",
              "\n",
              "    <script>\n",
              "      const buttonEl =\n",
              "        document.querySelector('#df-d546e063-fd72-4239-b4ab-69737b643a3c button.colab-df-convert');\n",
              "      buttonEl.style.display =\n",
              "        google.colab.kernel.accessAllowed ? 'block' : 'none';\n",
              "\n",
              "      async function convertToInteractive(key) {\n",
              "        const element = document.querySelector('#df-d546e063-fd72-4239-b4ab-69737b643a3c');\n",
              "        const dataTable =\n",
              "          await google.colab.kernel.invokeFunction('convertToInteractive',\n",
              "                                                    [key], {});\n",
              "        if (!dataTable) return;\n",
              "\n",
              "        const docLinkHtml = 'Like what you see? Visit the ' +\n",
              "          '<a target=\"_blank\" href=https://colab.research.google.com/notebooks/data_table.ipynb>data table notebook</a>'\n",
              "          + ' to learn more about interactive tables.';\n",
              "        element.innerHTML = '';\n",
              "        dataTable['output_type'] = 'display_data';\n",
              "        await google.colab.output.renderOutput(dataTable, element);\n",
              "        const docLink = document.createElement('div');\n",
              "        docLink.innerHTML = docLinkHtml;\n",
              "        element.appendChild(docLink);\n",
              "      }\n",
              "    </script>\n",
              "  </div>\n",
              "\n",
              "\n",
              "    <div id=\"df-6936ac2b-0bb0-4187-b6f5-1a3eab6973d7\">\n",
              "      <button class=\"colab-df-quickchart\" onclick=\"quickchart('df-6936ac2b-0bb0-4187-b6f5-1a3eab6973d7')\"\n",
              "                title=\"Suggest charts\"\n",
              "                style=\"display:none;\">\n",
              "\n",
              "<svg xmlns=\"http://www.w3.org/2000/svg\" height=\"24px\"viewBox=\"0 0 24 24\"\n",
              "     width=\"24px\">\n",
              "    <g>\n",
              "        <path d=\"M19 3H5c-1.1 0-2 .9-2 2v14c0 1.1.9 2 2 2h14c1.1 0 2-.9 2-2V5c0-1.1-.9-2-2-2zM9 17H7v-7h2v7zm4 0h-2V7h2v10zm4 0h-2v-4h2v4z\"/>\n",
              "    </g>\n",
              "</svg>\n",
              "      </button>\n",
              "\n",
              "<style>\n",
              "  .colab-df-quickchart {\n",
              "      --bg-color: #E8F0FE;\n",
              "      --fill-color: #1967D2;\n",
              "      --hover-bg-color: #E2EBFA;\n",
              "      --hover-fill-color: #174EA6;\n",
              "      --disabled-fill-color: #AAA;\n",
              "      --disabled-bg-color: #DDD;\n",
              "  }\n",
              "\n",
              "  [theme=dark] .colab-df-quickchart {\n",
              "      --bg-color: #3B4455;\n",
              "      --fill-color: #D2E3FC;\n",
              "      --hover-bg-color: #434B5C;\n",
              "      --hover-fill-color: #FFFFFF;\n",
              "      --disabled-bg-color: #3B4455;\n",
              "      --disabled-fill-color: #666;\n",
              "  }\n",
              "\n",
              "  .colab-df-quickchart {\n",
              "    background-color: var(--bg-color);\n",
              "    border: none;\n",
              "    border-radius: 50%;\n",
              "    cursor: pointer;\n",
              "    display: none;\n",
              "    fill: var(--fill-color);\n",
              "    height: 32px;\n",
              "    padding: 0;\n",
              "    width: 32px;\n",
              "  }\n",
              "\n",
              "  .colab-df-quickchart:hover {\n",
              "    background-color: var(--hover-bg-color);\n",
              "    box-shadow: 0 1px 2px rgba(60, 64, 67, 0.3), 0 1px 3px 1px rgba(60, 64, 67, 0.15);\n",
              "    fill: var(--button-hover-fill-color);\n",
              "  }\n",
              "\n",
              "  .colab-df-quickchart-complete:disabled,\n",
              "  .colab-df-quickchart-complete:disabled:hover {\n",
              "    background-color: var(--disabled-bg-color);\n",
              "    fill: var(--disabled-fill-color);\n",
              "    box-shadow: none;\n",
              "  }\n",
              "\n",
              "  .colab-df-spinner {\n",
              "    border: 2px solid var(--fill-color);\n",
              "    border-color: transparent;\n",
              "    border-bottom-color: var(--fill-color);\n",
              "    animation:\n",
              "      spin 1s steps(1) infinite;\n",
              "  }\n",
              "\n",
              "  @keyframes spin {\n",
              "    0% {\n",
              "      border-color: transparent;\n",
              "      border-bottom-color: var(--fill-color);\n",
              "      border-left-color: var(--fill-color);\n",
              "    }\n",
              "    20% {\n",
              "      border-color: transparent;\n",
              "      border-left-color: var(--fill-color);\n",
              "      border-top-color: var(--fill-color);\n",
              "    }\n",
              "    30% {\n",
              "      border-color: transparent;\n",
              "      border-left-color: var(--fill-color);\n",
              "      border-top-color: var(--fill-color);\n",
              "      border-right-color: var(--fill-color);\n",
              "    }\n",
              "    40% {\n",
              "      border-color: transparent;\n",
              "      border-right-color: var(--fill-color);\n",
              "      border-top-color: var(--fill-color);\n",
              "    }\n",
              "    60% {\n",
              "      border-color: transparent;\n",
              "      border-right-color: var(--fill-color);\n",
              "    }\n",
              "    80% {\n",
              "      border-color: transparent;\n",
              "      border-right-color: var(--fill-color);\n",
              "      border-bottom-color: var(--fill-color);\n",
              "    }\n",
              "    90% {\n",
              "      border-color: transparent;\n",
              "      border-bottom-color: var(--fill-color);\n",
              "    }\n",
              "  }\n",
              "</style>\n",
              "\n",
              "      <script>\n",
              "        async function quickchart(key) {\n",
              "          const quickchartButtonEl =\n",
              "            document.querySelector('#' + key + ' button');\n",
              "          quickchartButtonEl.disabled = true;  // To prevent multiple clicks.\n",
              "          quickchartButtonEl.classList.add('colab-df-spinner');\n",
              "          try {\n",
              "            const charts = await google.colab.kernel.invokeFunction(\n",
              "                'suggestCharts', [key], {});\n",
              "          } catch (error) {\n",
              "            console.error('Error during call to suggestCharts:', error);\n",
              "          }\n",
              "          quickchartButtonEl.classList.remove('colab-df-spinner');\n",
              "          quickchartButtonEl.classList.add('colab-df-quickchart-complete');\n",
              "        }\n",
              "        (() => {\n",
              "          let quickchartButtonEl =\n",
              "            document.querySelector('#df-6936ac2b-0bb0-4187-b6f5-1a3eab6973d7 button');\n",
              "          quickchartButtonEl.style.display =\n",
              "            google.colab.kernel.accessAllowed ? 'block' : 'none';\n",
              "        })();\n",
              "      </script>\n",
              "    </div>\n",
              "\n",
              "    </div>\n",
              "  </div>\n"
            ],
            "application/vnd.google.colaboratory.intrinsic+json": {
              "type": "dataframe",
              "summary": "{\n  \"name\": \"print(\\\"\\\\nDuplicate rows (exact match):\\\", df\",\n  \"rows\": 8,\n  \"fields\": [\n    {\n      \"column\": \"StudentID\",\n      \"properties\": {\n        \"dtype\": \"number\",\n        \"std\": 2536,\n        \"min\": 1396,\n        \"max\": 8830,\n        \"num_unique_values\": 8,\n        \"samples\": [\n          8774,\n          5305,\n          3336\n        ],\n        \"semantic_type\": \"\",\n        \"description\": \"\"\n      }\n    },\n    {\n      \"column\": \"Name\",\n      \"properties\": {\n        \"dtype\": \"string\",\n        \"num_unique_values\": 8,\n        \"samples\": [\n          \"Andrew Roach\",\n          \"Tiffany Wolf\",\n          \"David Palmer\"\n        ],\n        \"semantic_type\": \"\",\n        \"description\": \"\"\n      }\n    },\n    {\n      \"column\": \"Age\",\n      \"properties\": {\n        \"dtype\": \"number\",\n        \"std\": 2,\n        \"min\": 18,\n        \"max\": 24,\n        \"num_unique_values\": 6,\n        \"samples\": [\n          19,\n          23,\n          20\n        ],\n        \"semantic_type\": \"\",\n        \"description\": \"\"\n      }\n    },\n    {\n      \"column\": \"Email\",\n      \"properties\": {\n        \"dtype\": \"string\",\n        \"num_unique_values\": 8,\n        \"samples\": [\n          \"vbecker@harvey.com\",\n          \"qanderson@taylor.com\",\n          \"sean43@hotmail.com\"\n        ],\n        \"semantic_type\": \"\",\n        \"description\": \"\"\n      }\n    },\n    {\n      \"column\": \"Department\",\n      \"properties\": {\n        \"dtype\": \"category\",\n        \"num_unique_values\": 3,\n        \"samples\": [\n          \"Mathematics\",\n          \"Chemistry\",\n          \"Physics\"\n        ],\n        \"semantic_type\": \"\",\n        \"description\": \"\"\n      }\n    },\n    {\n      \"column\": \"GPA\",\n      \"properties\": {\n        \"dtype\": \"number\",\n        \"std\": 0.5206589231788065,\n        \"min\": 2.29,\n        \"max\": 3.75,\n        \"num_unique_values\": 8,\n        \"samples\": [\n          3.75,\n          3.3,\n          3.16\n        ],\n        \"semantic_type\": \"\",\n        \"description\": \"\"\n      }\n    },\n    {\n      \"column\": \"GraduationYear\",\n      \"properties\": {\n        \"dtype\": \"number\",\n        \"std\": 1,\n        \"min\": 2025,\n        \"max\": 2029,\n        \"num_unique_values\": 4,\n        \"samples\": [\n          2027,\n          2025,\n          2026\n        ],\n        \"semantic_type\": \"\",\n        \"description\": \"\"\n      }\n    }\n  ]\n}"
            }
          },
          "metadata": {}
        },
        {
          "output_type": "stream",
          "name": "stdout",
          "text": [
            "\n",
            "Info:\n",
            "<class 'pandas.core.frame.DataFrame'>\n",
            "RangeIndex: 200 entries, 0 to 199\n",
            "Data columns (total 7 columns):\n",
            " #   Column          Non-Null Count  Dtype  \n",
            "---  ------          --------------  -----  \n",
            " 0   StudentID       200 non-null    int64  \n",
            " 1   Name            200 non-null    object \n",
            " 2   Age             200 non-null    int64  \n",
            " 3   Email           200 non-null    object \n",
            " 4   Department      200 non-null    object \n",
            " 5   GPA             200 non-null    float64\n",
            " 6   GraduationYear  200 non-null    int64  \n",
            "dtypes: float64(1), int64(3), object(3)\n",
            "memory usage: 11.1+ KB\n"
          ]
        },
        {
          "output_type": "display_data",
          "data": {
            "text/plain": [
              "None"
            ]
          },
          "metadata": {}
        },
        {
          "output_type": "stream",
          "name": "stdout",
          "text": [
            "\n",
            "Missing values per column:\n",
            "StudentID         0\n",
            "Name              0\n",
            "Age               0\n",
            "Email             0\n",
            "Department        0\n",
            "GPA               0\n",
            "GraduationYear    0\n",
            "dtype: int64\n",
            "\n",
            "Duplicate rows (exact match): 0\n"
          ]
        }
      ]
    },
    {
      "cell_type": "code",
      "source": [
        "df.columns = [c.strip().replace(\" \", \"_\") for c in df.columns]\n",
        "# jika mau pakai nama tertentu:\n",
        "# df = df.rename(columns={\"StudentID\":\"student_id\", \"Name\":\"name\", ...})\n",
        "df.columns = [c.lower() for c in df.columns]  # semua huruf kecil"
      ],
      "metadata": {
        "id": "vOuq9aMCNlN9"
      },
      "execution_count": null,
      "outputs": []
    },
    {
      "cell_type": "code",
      "source": [
        "# Trim strings\n",
        "for col in df.select_dtypes(include='object').columns:\n",
        "    df[col] = df[col].astype(str).str.strip()\n"
      ],
      "metadata": {
        "id": "FtJN28yHNsvC"
      },
      "execution_count": null,
      "outputs": []
    },
    {
      "cell_type": "code",
      "source": [
        "# Sesuaikan nama kolom jika berbeda; asumsi kolom: studentid, name, age, email, department, gpa, graduationyear\n",
        "# Jika nama kolom berbeda, ganti pada baris berikut.\n",
        "col_map = {\n",
        "    \"studentid\": \"student_id\",\n",
        "    \"student_id\": \"student_id\",\n",
        "    \"name\": \"name\",\n",
        "    \"age\": \"age\",\n",
        "    \"email\": \"email\",\n",
        "    \"department\": \"department\",\n",
        "    \"gpa\": \"gpa\",\n",
        "    \"graduationyear\": \"graduation_year\",\n",
        "    \"graduation_year\": \"graduation_year\"\n",
        "}"
      ],
      "metadata": {
        "id": "Z6aHjE2FN0DD"
      },
      "execution_count": null,
      "outputs": []
    },
    {
      "cell_type": "code",
      "source": [
        "# rename if present\n",
        "for k, v in col_map.items():\n",
        "    if k in df.columns and v not in df.columns:\n",
        "        df = df.rename(columns={k: v})"
      ],
      "metadata": {
        "id": "Zf7i-FEtN4JL"
      },
      "execution_count": null,
      "outputs": []
    },
    {
      "cell_type": "code",
      "source": [
        "expected_cols = [\"student_id\", \"name\", \"age\", \"email\", \"department\", \"gpa\", \"graduation_year\"]\n",
        "present = [c for c in expected_cols if c in df.columns]\n",
        "print(\"Found columns:\", present)\n"
      ],
      "metadata": {
        "colab": {
          "base_uri": "https://localhost:8080/"
        },
        "id": "BlYxFlsHN8ci",
        "outputId": "509c8c63-e966-4d3c-a7f4-4ac88dec64cc"
      },
      "execution_count": null,
      "outputs": [
        {
          "output_type": "stream",
          "name": "stdout",
          "text": [
            "Found columns: ['student_id', 'name', 'age', 'email', 'department', 'gpa', 'graduation_year']\n"
          ]
        }
      ]
    },
    {
      "cell_type": "code",
      "source": [
        "# Convert numeric-like cols\n",
        "if \"age\" in df.columns:\n",
        "    df[\"age\"] = pd.to_numeric(df[\"age\"], errors=\"coerce\")\n",
        "if \"gpa\" in df.columns:\n",
        "    df[\"gpa\"] = pd.to_numeric(df[\"gpa\"], errors=\"coerce\")\n",
        "if \"graduation_year\" in df.columns:\n",
        "    df[\"graduation_year\"] = pd.to_numeric(df[\"graduation_year\"], errors=\"coerce\")\n"
      ],
      "metadata": {
        "id": "GJfaIGAKOC9j"
      },
      "execution_count": null,
      "outputs": []
    },
    {
      "cell_type": "code",
      "source": [
        "# Student ID: treat as string (some IDs start with zero)\n",
        "if \"student_id\" in df.columns:\n",
        "    df[\"student_id\"] = df[\"student_id\"].astype(str).str.strip()"
      ],
      "metadata": {
        "id": "S_sX9q4vOGvD"
      },
      "execution_count": null,
      "outputs": []
    },
    {
      "cell_type": "code",
      "source": [
        "# normalkan text kolom\n",
        "if \"department\" in df.columns:\n",
        "    # remove extra spaces and title-case department names\n",
        "    df[\"department\"] = df[\"department\"].astype(str).str.replace(r\"\\s+\", \" \", regex=True).str.strip().str.title()\n",
        "if \"name\" in df.columns:\n",
        "    df[\"name\"] = df[\"name\"].astype(str).str.replace(r\"\\s+\", \" \", regex=True).str.strip().str.title()\n",
        "if \"email\" in df.columns:\n",
        "    df[\"email\"] = df[\"email\"].astype(str).str.strip().str.lower()"
      ],
      "metadata": {
        "id": "D9x-MHP1OKVr"
      },
      "execution_count": null,
      "outputs": []
    },
    {
      "cell_type": "code",
      "source": [
        "# 5. Mendeteksi apakah terdapat paksaan menciptakan nilai-nilai baru yang hilang\n",
        "print(\"\\nMissing after type coercion:\")\n",
        "print(df[[\"age\",\"gpa\",\"graduation_year\"]].isnull().sum())\n"
      ],
      "metadata": {
        "colab": {
          "base_uri": "https://localhost:8080/"
        },
        "id": "sa9hZn6FOSFT",
        "outputId": "7b8e9e37-4506-4781-97f4-06d8792a9f84"
      },
      "execution_count": null,
      "outputs": [
        {
          "output_type": "stream",
          "name": "stdout",
          "text": [
            "\n",
            "Missing after type coercion:\n",
            "age                0\n",
            "gpa                0\n",
            "graduation_year    0\n",
            "dtype: int64\n"
          ]
        }
      ]
    },
    {
      "cell_type": "code",
      "source": [
        "# 6.  Duplicate handling\n",
        "# Periksa duplikat berdasarkan seluruh baris\n",
        "dupe_rows = df[df.duplicated(keep=False)]\n",
        "print(\"\\nExact duplicate rows found:\", dupe_rows.shape[0])\n",
        "# Check duplicate student_id\n",
        "if \"student_id\" in df.columns:\n",
        "    dup_ids = df[df.duplicated(subset=[\"student_id\"], keep=False)]\n",
        "    print(\"Rows with duplicate student_id:\", dup_ids.shape[0])"
      ],
      "metadata": {
        "colab": {
          "base_uri": "https://localhost:8080/"
        },
        "id": "H0d9v7l_PBfs",
        "outputId": "e31c7747-c563-442c-cff6-f5181a9deca8"
      },
      "execution_count": null,
      "outputs": [
        {
          "output_type": "stream",
          "name": "stdout",
          "text": [
            "\n",
            "Exact duplicate rows found: 0\n",
            "Rows with duplicate student_id: 0\n"
          ]
        }
      ]
    },
    {
      "cell_type": "code",
      "source": [
        "# Strategy: drop exact duplicated rows (keep first)\n",
        "if dupe_rows.shape[0] > 0:\n",
        "    df = df.drop_duplicates(keep=\"first\").reset_index(drop=True)\n"
      ],
      "metadata": {
        "id": "Qhx9idwjPNnT"
      },
      "execution_count": null,
      "outputs": []
    },
    {
      "cell_type": "code",
      "source": [
        "# 7. Validasi format email dan dicoba perbaikan ringan\n",
        "email_pattern = r'^[\\w\\.-]+@[\\w\\.-]+\\.\\w+$'\n",
        "if \"email\" in df.columns:\n",
        "    # remove spaces and some common artifacts\n",
        "    df[\"email\"] = df[\"email\"].str.replace(r\"\\s+\", \"\", regex=True)\n",
        "    # fix common \" at \" / \"[at]\" -> \"@\"\n",
        "    df[\"email\"] = df[\"email\"].str.replace(r\"\\s+at\\s+\", \"@\", regex=True)\n",
        "    df[\"email\"] = df[\"email\"].str.replace(r\"\\[at\\]\", \"@\", regex=True)\n",
        "    df[\"email_valid\"] = df[\"email\"].str.match(email_pattern)\n",
        "    invalid_emails = df[~df[\"email_valid\"]]\n",
        "    print(\"\\nInvalid email count:\", invalid_emails.shape[0])\n",
        "    if invalid_emails.shape[0] > 0:\n",
        "        display(invalid_emails[[\"student_id\",\"name\",\"email\"]].head(8))"
      ],
      "metadata": {
        "colab": {
          "base_uri": "https://localhost:8080/"
        },
        "id": "L9Q8b7dUPQ7b",
        "outputId": "749cca1a-6b6c-4f88-fe34-149fb8d2e75a"
      },
      "execution_count": null,
      "outputs": [
        {
          "output_type": "stream",
          "name": "stdout",
          "text": [
            "\n",
            "Invalid email count: 0\n"
          ]
        }
      ]
    },
    {
      "cell_type": "code",
      "source": [
        "# 8. Pemeriksaan apakah make sense & tanda outlier\n",
        "# a) GPA range: valid range 0.0 - 4.0\n",
        "if \"gpa\" in df.columns:\n",
        "    df[\"gpa_valid_range\"] = df[\"gpa\"].between(0.0, 4.0)\n",
        "    print(\"\\nGPA values outside 0-4:\", (~df[\"gpa_valid_range\"]).sum())\n"
      ],
      "metadata": {
        "colab": {
          "base_uri": "https://localhost:8080/"
        },
        "id": "3FSO22e0PeLj",
        "outputId": "fd803f6c-b905-4fa5-824f-93e2c881d0e2"
      },
      "execution_count": null,
      "outputs": [
        {
          "output_type": "stream",
          "name": "stdout",
          "text": [
            "\n",
            "GPA values outside 0-4: 0\n"
          ]
        }
      ]
    },
    {
      "cell_type": "code",
      "source": [
        "# b) Kelayakan usia (menyesuaikan batasan sesuai kebutuhan)\n",
        "min_age, max_age = 16, 60\n",
        "if \"age\" in df.columns:\n",
        "    df[\"age_plausible\"] = df[\"age\"].between(min_age, max_age)\n",
        "    print(\"Ages outside plausible range ({}-{}):\".format(min_age, max_age), (~df[\"age_plausible\"]).sum())\n"
      ],
      "metadata": {
        "colab": {
          "base_uri": "https://localhost:8080/"
        },
        "id": "pRmzxPqjPtQs",
        "outputId": "ec8f9ecc-86b3-495c-cffd-1506ca9fd290"
      },
      "execution_count": null,
      "outputs": [
        {
          "output_type": "stream",
          "name": "stdout",
          "text": [
            "Ages outside plausible range (16-60): 0\n"
          ]
        }
      ]
    },
    {
      "cell_type": "code",
      "source": [
        "# c) Kelayakan tahun kelulusan\n",
        "current_year = pd.Timestamp.now().year\n",
        "min_grad, max_grad = current_year - 10, current_year + 6\n",
        "if \"graduation_year\" in df.columns:\n",
        "    df[\"graduation_year_plausible\"] = df[\"graduation_year\"].between(min_grad, max_grad)\n",
        "    print(\"Graduation years outside plausible range ({}-{}):\".format(min_grad, max_grad), (~df[\"graduation_year_plausible\"]).sum())\n"
      ],
      "metadata": {
        "colab": {
          "base_uri": "https://localhost:8080/"
        },
        "id": "pZlSDXG3P6aD",
        "outputId": "ef7ebdeb-4270-443d-d270-951b5a9a3c63"
      },
      "execution_count": null,
      "outputs": [
        {
          "output_type": "stream",
          "name": "stdout",
          "text": [
            "Graduation years outside plausible range (2015-2031): 0\n"
          ]
        }
      ]
    },
    {
      "cell_type": "code",
      "source": [
        "# d) Deteksi outlier IQR untuk kolom numerik (usia, IPK)\n",
        "def iqr_outliers(series):\n",
        "    q1 = series.quantile(0.25)\n",
        "    q3 = series.quantile(0.75)\n",
        "    iqr = q3 - q1\n",
        "    lower = q1 - 1.5 * iqr\n",
        "    upper = q3 + 1.5 * iqr\n",
        "    return (series < lower) | (series > upper)\n",
        "\n",
        "if \"gpa\" in df.columns:\n",
        "    df[\"gpa_outlier\"] = iqr_outliers(df[\"gpa\"].dropna())\n",
        "    print(\"GPA outliers (IQR):\", df[\"gpa_outlier\"].sum())\n",
        "if \"age\" in df.columns:\n",
        "    df[\"age_outlier\"] = iqr_outliers(df[\"age\"].dropna())\n",
        "    print(\"Age outliers (IQR):\", df[\"age_outlier\"].sum())"
      ],
      "metadata": {
        "colab": {
          "base_uri": "https://localhost:8080/"
        },
        "id": "f7lRVEGpQF20",
        "outputId": "bd75e2c1-3278-4a88-a54d-6dacd665aa83"
      },
      "execution_count": null,
      "outputs": [
        {
          "output_type": "stream",
          "name": "stdout",
          "text": [
            "GPA outliers (IQR): 0\n",
            "Age outliers (IQR): 0\n"
          ]
        }
      ]
    },
    {
      "cell_type": "code",
      "source": [
        "# 9 Tentukan remediasi (contoh):\n",
        "# - Untuk beberapa email tidak valid: koreksi manual disarankan (periksa invalid_emails).\n",
        "# - Untuk jumlah kecil nilai numerik yang hilang: imputasi dengan median.\n",
        "# - Untuk outlier: pertahankan, batasi, atau tetapkan ke NaN dan dokumentasikan.\n",
        "\n",
        "# Contoh remediasi otomatis (gunakan dengan hati-hati; lebih baik mendokumentasikan dan meninjau):\n",
        "# Imputasi usia/IPK yang hilang dengan median jika jumlah yang hilang kecil\n",
        "for col in [\"age\", \"gpa\", \"graduation_year\"]:\n",
        "    if col in df.columns:\n",
        "        missing_count = df[col].isnull().sum()\n",
        "        if 0 < missing_count <= 10:  # small number -> impute with median\n",
        "            median_val = df[col].median(skipna=True)\n",
        "            df[col] = df[col].fillna(median_val)\n",
        "            print(f\"Imputed {missing_count} missing values in {col} with median {median_val:.2f}\")\n"
      ],
      "metadata": {
        "id": "QqTq_M6rQRyk"
      },
      "execution_count": null,
      "outputs": []
    },
    {
      "cell_type": "code",
      "source": [
        "# Untuk nilai IPK di luar 0-4, atur ke NaN (agar dapat diperiksa)\n",
        "if \"gpa\" in df.columns:\n",
        "    bad_gpa = (~df[\"gpa_valid_range\"])\n",
        "    if bad_gpa.sum() > 0:\n",
        "        df.loc[bad_gpa, \"gpa\"] = np.nan\n",
        "        print(\"Set out-of-range GPA to NaN for manual review.\")"
      ],
      "metadata": {
        "id": "Wr3q5nmXQh4b"
      },
      "execution_count": null,
      "outputs": []
    },
    {
      "cell_type": "code",
      "source": [
        "# 10 Final checks and summary\n",
        "print(\"\\nFinal missing counts:\")\n",
        "print(df.isnull().sum())\n",
        "print(\"\\nFinal shape:\", df.shape)\n"
      ],
      "metadata": {
        "colab": {
          "base_uri": "https://localhost:8080/"
        },
        "id": "DEjL1giFQpLL",
        "outputId": "14f5e7e5-9a8f-4094-d3a9-44f23fccf17d"
      },
      "execution_count": null,
      "outputs": [
        {
          "output_type": "stream",
          "name": "stdout",
          "text": [
            "\n",
            "Final missing counts:\n",
            "student_id                   0\n",
            "name                         0\n",
            "age                          0\n",
            "email                        0\n",
            "department                   0\n",
            "gpa                          0\n",
            "graduation_year              0\n",
            "email_valid                  0\n",
            "gpa_valid_range              0\n",
            "age_plausible                0\n",
            "graduation_year_plausible    0\n",
            "gpa_outlier                  0\n",
            "age_outlier                  0\n",
            "dtype: int64\n",
            "\n",
            "Final shape: (200, 13)\n"
          ]
        }
      ]
    },
    {
      "cell_type": "code",
      "source": [
        "# Simpan kolom log pembersihan sederhana yang mengumpulkan flag untuk peninjauan manual\n",
        "def make_notes(row):\n",
        "    notes = []\n",
        "    if \"email_valid\" in row and not row[\"email_valid\"]:\n",
        "        notes.append(\"invalid_email\")\n",
        "    if \"gpa_valid_range\" in row and not row[\"gpa_valid_range\"]:\n",
        "        notes.append(\"gpa_out_of_range\")\n",
        "    if \"gpa_outlier\" in row and row[\"gpa_outlier\"]:\n",
        "        notes.append(\"gpa_outlier\")\n",
        "    if \"age_plausible\" in row and not row[\"age_plausible\"]:\n",
        "        notes.append(\"age_implausible\")\n",
        "    if \"age_outlier\" in row and row[\"age_outlier\"]:\n",
        "        notes.append(\"age_outlier\")\n",
        "    if \"graduation_year_plausible\" in row and not row[\"graduation_year_plausible\"]:\n",
        "        notes.append(\"grad_year_implausible\")\n",
        "    return \";\".join(notes) if notes else \"\"\n",
        "\n",
        "df[\"clean_notes\"] = df.apply(make_notes, axis=1)"
      ],
      "metadata": {
        "id": "cFUC0iiJQx3z"
      },
      "execution_count": null,
      "outputs": []
    },
    {
      "cell_type": "code",
      "source": [
        "# melihat rows that need manual review\n",
        "to_review = df[df[\"clean_notes\"] != \"\"]\n",
        "print(\"\\nRows flagged for review:\", to_review.shape[0])\n",
        "if to_review.shape[0] > 0:\n",
        "    display(to_review.head(10))"
      ],
      "metadata": {
        "colab": {
          "base_uri": "https://localhost:8080/"
        },
        "id": "em5Zt_LvQ918",
        "outputId": "1b2fe2ea-f6d6-42ce-c7bd-6ec7105c24ae"
      },
      "execution_count": null,
      "outputs": [
        {
          "output_type": "stream",
          "name": "stdout",
          "text": [
            "\n",
            "Rows flagged for review: 0\n"
          ]
        }
      ]
    },
    {
      "cell_type": "code",
      "source": [
        "# 11. Save cleaned dataset to a new CSV\n",
        "out_name = \"students_cleaned.csv\"\n",
        "df.to_csv(out_name, index=False)\n",
        "print(\"\\nCleaned file saved as:\", out_name)\n",
        "# Provide download link in Colab\n",
        "files.download(out_name)"
      ],
      "metadata": {
        "colab": {
          "base_uri": "https://localhost:8080/",
          "height": 52
        },
        "id": "2QJJ68WnREik",
        "outputId": "1b949139-d198-46bb-8859-39ebbdbf180e"
      },
      "execution_count": null,
      "outputs": [
        {
          "output_type": "stream",
          "name": "stdout",
          "text": [
            "\n",
            "Cleaned file saved as: students_cleaned.csv\n"
          ]
        },
        {
          "output_type": "display_data",
          "data": {
            "text/plain": [
              "<IPython.core.display.Javascript object>"
            ],
            "application/javascript": [
              "\n",
              "    async function download(id, filename, size) {\n",
              "      if (!google.colab.kernel.accessAllowed) {\n",
              "        return;\n",
              "      }\n",
              "      const div = document.createElement('div');\n",
              "      const label = document.createElement('label');\n",
              "      label.textContent = `Downloading \"${filename}\": `;\n",
              "      div.appendChild(label);\n",
              "      const progress = document.createElement('progress');\n",
              "      progress.max = size;\n",
              "      div.appendChild(progress);\n",
              "      document.body.appendChild(div);\n",
              "\n",
              "      const buffers = [];\n",
              "      let downloaded = 0;\n",
              "\n",
              "      const channel = await google.colab.kernel.comms.open(id);\n",
              "      // Send a message to notify the kernel that we're ready.\n",
              "      channel.send({})\n",
              "\n",
              "      for await (const message of channel.messages) {\n",
              "        // Send a message to notify the kernel that we're ready.\n",
              "        channel.send({})\n",
              "        if (message.buffers) {\n",
              "          for (const buffer of message.buffers) {\n",
              "            buffers.push(buffer);\n",
              "            downloaded += buffer.byteLength;\n",
              "            progress.value = downloaded;\n",
              "          }\n",
              "        }\n",
              "      }\n",
              "      const blob = new Blob(buffers, {type: 'application/binary'});\n",
              "      const a = document.createElement('a');\n",
              "      a.href = window.URL.createObjectURL(blob);\n",
              "      a.download = filename;\n",
              "      div.appendChild(a);\n",
              "      a.click();\n",
              "      div.remove();\n",
              "    }\n",
              "  "
            ]
          },
          "metadata": {}
        },
        {
          "output_type": "display_data",
          "data": {
            "text/plain": [
              "<IPython.core.display.Javascript object>"
            ],
            "application/javascript": [
              "download(\"download_809b5cfd-e6f9-4aad-b668-7d79c72b5e3f\", \"students_cleaned.csv\", 19983)"
            ]
          },
          "metadata": {}
        }
      ]
    }
  ]
}